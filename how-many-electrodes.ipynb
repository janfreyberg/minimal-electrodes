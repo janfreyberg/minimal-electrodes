{
 "cells": [
  {
   "cell_type": "markdown",
   "metadata": {
    "deletable": true,
    "editable": true
   },
   "source": [
    "# How many electrodes do you need to stably estimate an SSVEP?\n",
    "\n"
   ]
  },
  {
   "cell_type": "code",
   "execution_count": 1,
   "metadata": {
    "collapsed": false,
    "deletable": true,
    "editable": true
   },
   "outputs": [
    {
     "name": "stderr",
     "output_type": "stream",
     "text": [
      "/Library/anaconda/envs/py36/lib/python3.6/site-packages/sklearn/cross_validation.py:44: DeprecationWarning: This module was deprecated in version 0.18 in favor of the model_selection module into which all the refactored classes and functions are moved. Also note that the interface of the new CV iterators are different from that of this module. This module will be removed in 0.20.\n",
      "  \"This module will be removed in 0.20.\", DeprecationWarning)\n"
     ]
    }
   ],
   "source": [
    "# Import mne for eeg processing\n",
    "import mne\n",
    "# For SSVEP analysis (custom package)\n",
    "import ssvepy\n",
    "# import autoreject\n",
    "from autoreject import LocalAutoRejectCV, Ransac\n",
    "# for file operations\n",
    "from glob import glob\n",
    "# for numeric computing and plotting\n",
    "import numpy as np\n",
    "from matplotlib import pyplot as plt\n",
    "\n",
    "# for more fun plotting\n",
    "from tqdm import tqdm_notebook\n",
    "from ipywidgets import interact\n",
    "\n",
    "mne.utils.set_log_level('WARNING')"
   ]
  },
  {
   "cell_type": "code",
   "execution_count": 15,
   "metadata": {
    "collapsed": false,
    "deletable": true,
    "editable": true
   },
   "outputs": [],
   "source": [
    "# parameters required for analysis\n",
    "\n",
    "stimfreq = 6.0\n",
    "\n",
    "fmin, fmax = 1.0, 30.0\n",
    "\n",
    "tmin, tmax = 1.0, 15.0\n"
   ]
  },
  {
   "cell_type": "code",
   "execution_count": 3,
   "metadata": {
    "collapsed": false,
    "deletable": true,
    "editable": true
   },
   "outputs": [],
   "source": [
    "# list the files\n",
    "datafolder = '/Users/jan/Documents/eeg-data/faces-project/'\n",
    "files = [file for file in glob(datafolder + '*.bdf')]"
   ]
  },
  {
   "cell_type": "markdown",
   "metadata": {
    "deletable": true,
    "editable": true
   },
   "source": [
    "We can now start creating the information structure as well as the epoched data structures for each participant. In the following steps, we don't actually load the data into memory - we just get the meta-data to start epoching the data."
   ]
  },
  {
   "cell_type": "code",
   "execution_count": 4,
   "metadata": {
    "collapsed": false,
    "deletable": true,
    "editable": true
   },
   "outputs": [],
   "source": [
    "# create a raw class for each participant\n",
    "# NB mne doesn't load the data straight away, this is just info structures\n",
    "raws = [mne.io.read_raw_edf(file, eog=['EXG' + str(i) for i in range(9)],\n",
    "                            montage=mne.channels.read_montage('biosemi64'),\n",
    "                            verbose='WARNING')\n",
    "       for file in files]\n",
    "# For now, we'll just work with the EEG channels:\n",
    "picks = [mne.pick_types(raw.info, eeg=True) for raw in raws]"
   ]
  },
  {
   "cell_type": "code",
   "execution_count": 5,
   "metadata": {
    "collapsed": true,
    "deletable": true,
    "editable": true
   },
   "outputs": [],
   "source": [
    "# read the events\n",
    "events = [mne.find_events(raw, stim_channel='STI 014', verbose='WARNING')\n",
    "          for raw in raws]\n",
    "# choose the events that are actual start triggers (255=end of trial)\n",
    "eventids = [event[:, 2][event[:, 2] < 255].tolist()\n",
    "            for event in events]"
   ]
  },
  {
   "cell_type": "code",
   "execution_count": 6,
   "metadata": {
    "collapsed": false,
    "deletable": true,
    "editable": true
   },
   "outputs": [],
   "source": [
    "# epoch the data\n",
    "epochs = [mne.Epochs(raw, events=event, event_id=eventid,\n",
    "                     tmin=0, tmax=16, add_eeg_ref=False,\n",
    "                     picks=pick,\n",
    "                     verbose='WARNING')\n",
    "          for raw, event, eventid, pick in zip(raws, events, eventids, picks)]"
   ]
  },
  {
   "cell_type": "code",
   "execution_count": 7,
   "metadata": {
    "collapsed": true
   },
   "outputs": [],
   "source": [
    "# pre-load the data and resample it\n",
    "for epoch in epochs:\n",
    "    epoch.load_data()\n",
    "    epoch.resample(256)"
   ]
  },
  {
   "cell_type": "code",
   "execution_count": 8,
   "metadata": {
    "collapsed": false,
    "deletable": true,
    "editable": true,
    "scrolled": true
   },
   "outputs": [
    {
     "data": {
      "application/vnd.jupyter.widget-view+json": {
       "model_id": "0ff22dc5623e4c06b2117a08b219cf1d"
      }
     },
     "metadata": {},
     "output_type": "display_data"
    },
    {
     "data": {
      "application/vnd.jupyter.widget-view+json": {
       "model_id": "455ccf10da294f359bc098222ef6fae6"
      }
     },
     "metadata": {},
     "output_type": "display_data"
    },
    {
     "name": "stderr",
     "output_type": "stream",
     "text": [
      "[Parallel(n_jobs=1)]: Done   1 out of   1 | elapsed:    6.5s remaining:    0.0s\n",
      "[Parallel(n_jobs=1)]: Done   1 out of   1 | elapsed:    6.5s finished\n"
     ]
    },
    {
     "data": {
      "application/vnd.jupyter.widget-view+json": {
       "model_id": "13e1df8f9955488583db4a2169923743"
      }
     },
     "metadata": {},
     "output_type": "display_data"
    },
    {
     "name": "stderr",
     "output_type": "stream",
     "text": [
      "[Parallel(n_jobs=1)]: Done   1 out of   1 | elapsed:    6.3s remaining:    0.0s\n",
      "[Parallel(n_jobs=1)]: Done   1 out of   1 | elapsed:    6.3s finished\n"
     ]
    },
    {
     "data": {
      "application/vnd.jupyter.widget-view+json": {
       "model_id": "d29ab1c028b9411ba38c4543885010fe"
      }
     },
     "metadata": {},
     "output_type": "display_data"
    },
    {
     "name": "stderr",
     "output_type": "stream",
     "text": [
      "[Parallel(n_jobs=1)]: Done   1 out of   1 | elapsed:    6.0s remaining:    0.0s\n",
      "[Parallel(n_jobs=1)]: Done   1 out of   1 | elapsed:    6.0s finished\n"
     ]
    },
    {
     "data": {
      "application/vnd.jupyter.widget-view+json": {
       "model_id": "da1e523848d94788afbc33a80fab32c8"
      }
     },
     "metadata": {},
     "output_type": "display_data"
    },
    {
     "name": "stderr",
     "output_type": "stream",
     "text": [
      "[Parallel(n_jobs=1)]: Done   1 out of   1 | elapsed:    6.3s remaining:    0.0s\n",
      "[Parallel(n_jobs=1)]: Done   1 out of   1 | elapsed:    6.3s finished\n"
     ]
    },
    {
     "data": {
      "application/vnd.jupyter.widget-view+json": {
       "model_id": "74d745a60c2a46b3b21a1a5f2f772f1f"
      }
     },
     "metadata": {},
     "output_type": "display_data"
    },
    {
     "name": "stdout",
     "output_type": "stream",
     "text": [
      "\n"
     ]
    },
    {
     "name": "stderr",
     "output_type": "stream",
     "text": [
      "[Parallel(n_jobs=1)]: Done   1 out of   1 | elapsed:    6.1s remaining:    0.0s\n",
      "[Parallel(n_jobs=1)]: Done   1 out of   1 | elapsed:    6.1s finished\n"
     ]
    }
   ],
   "source": [
    "# use ransac from autoreject to interpolate bad channels\n",
    "\n",
    "cleanepochs = [Ransac(verbose='tqdm_notebook').fit_transform(epoch)\n",
    "               for epoch in tqdm_notebook(epochs, desc='Subjects')]\n"
   ]
  },
  {
   "cell_type": "markdown",
   "metadata": {
    "deletable": true,
    "editable": true
   },
   "source": [
    "In this analysis we are focusing on how many electrodes you need to stably estimate an SSVEP. The SSVEP signal is strongest at the occipital pole (over V1), so we'll do this by calculating the distance from `Oz` for each electrode and sorting by that distance, then gradually add more and more electrodes, starting with the closest one."
   ]
  },
  {
   "cell_type": "code",
   "execution_count": 9,
   "metadata": {
    "collapsed": false,
    "deletable": true,
    "editable": true
   },
   "outputs": [],
   "source": [
    "mtg = mne.channels.read_montage('biosemi64')\n",
    "\n",
    "dist = np.array(\n",
    "    [np.linalg.norm(mtg.pos[idx, :]-mtg.pos[mtg.ch_names.index('Oz')])\n",
    "     for idx in range(mtg.pos.shape[0])]\n",
    ")\n",
    "# sort the electrodes by distance from Oz\n",
    "sortorder = np.argsort(dist)\n",
    "# create a list containing lists of electrodes, starting at just Oz and moving upwards\n",
    "electrodepicks = [[mtg.ch_names[elecindex]\n",
    "                   for elecindex in sortorder[0:(loopindex+1)]\n",
    "                   if mtg.ch_names[elecindex] in epochs[0].ch_names]\n",
    "                  for loopindex in range(len(mtg.ch_names))]"
   ]
  },
  {
   "cell_type": "markdown",
   "metadata": {
    "deletable": true,
    "editable": true
   },
   "source": [
    "Now that we know which timepoints we actually are interested in, we can load the data into memory and do what we need to do with it: Trim it to the right length, re-reference it, and then calculate the power spectrum density (psd)."
   ]
  },
  {
   "cell_type": "code",
   "execution_count": 16,
   "metadata": {
    "collapsed": false,
    "deletable": true,
    "editable": true
   },
   "outputs": [
    {
     "data": {
      "application/vnd.jupyter.widget-view+json": {
       "model_id": "5f963b14de9a457496512dca946970c0"
      }
     },
     "metadata": {},
     "output_type": "display_data"
    },
    {
     "data": {
      "application/vnd.jupyter.widget-view+json": {
       "model_id": "3c8224f550fa4a46a0af13ecf734f55c"
      }
     },
     "metadata": {},
     "output_type": "display_data"
    },
    {
     "data": {
      "application/vnd.jupyter.widget-view+json": {
       "model_id": "f7174d313d3849fb80c88469c28325ed"
      }
     },
     "metadata": {},
     "output_type": "display_data"
    },
    {
     "data": {
      "application/vnd.jupyter.widget-view+json": {
       "model_id": "2ac6e905c7174c73ac66db2718970bfd"
      }
     },
     "metadata": {},
     "output_type": "display_data"
    },
    {
     "data": {
      "application/vnd.jupyter.widget-view+json": {
       "model_id": "4408548b1161468abcbb5b829a391f5f"
      }
     },
     "metadata": {},
     "output_type": "display_data"
    },
    {
     "data": {
      "application/vnd.jupyter.widget-view+json": {
       "model_id": "cd7a2b34db404f7295c0e39085871b72"
      }
     },
     "metadata": {},
     "output_type": "display_data"
    },
    {
     "name": "stdout",
     "output_type": "stream",
     "text": [
      "\n"
     ]
    }
   ],
   "source": [
    "ssveplists = []  # the outer list indexes subjects\n",
    "\n",
    "# loop over our data structures:\n",
    "for epoch in tqdm_notebook(cleanepochs, desc='Subjects'):\n",
    "\n",
    "    ssveplist = []  # the inner list indexes electrodecombos\n",
    "\n",
    "    # Now loop over the electrode combinations\n",
    "    for electrodes in tqdm_notebook(electrodepicks, desc='Electrodes', leave=False):\n",
    "        tmpepoch = epoch.copy()\n",
    "        tmpepoch.pick_channels(electrodes)  # pick subset\n",
    "        if len(electrodes) > 2:\n",
    "            tmpepoch.set_eeg_reference(ref_channels=electrodes)  # reref to avg\n",
    "        \n",
    "        # Do the fourier transform:\n",
    "        ssvep = ssvepy.Ssvep(tmpepoch, stimfreq,\n",
    "                             fmin=fmin, fmax=fmax,\n",
    "                             tmin=tmin, tmax=tmax)\n",
    "\n",
    "        ssveplist.append(ssvep)  # append to list:\n",
    "\n",
    "    # append the list to the bigger list:\n",
    "    ssveplists.append(ssveplist)\n"
   ]
  },
  {
   "cell_type": "markdown",
   "metadata": {
    "deletable": true,
    "editable": true
   },
   "source": [
    "Just to explore the data a bit, I'm going to implement an ipywidget plotting function here:"
   ]
  },
  {
   "cell_type": "code",
   "execution_count": 17,
   "metadata": {
    "collapsed": false,
    "deletable": true,
    "editable": true,
    "scrolled": false
   },
   "outputs": [
    {
     "data": {
      "application/vnd.jupyter.widget-view+json": {
       "model_id": "42256ca2c4fc4108b64cd6bb1e47062a"
      }
     },
     "metadata": {},
     "output_type": "display_data"
    }
   ],
   "source": [
    "def plot_spec(subjectno, electrodecombo, spectype='snr'):\n",
    "    if spectype=='snr':\n",
    "        ssveplists[subjectno][electrodecombo].plot_snr()\n",
    "    elif spectype=='psd':\n",
    "        ssveplists[subjectno][electrodecombo].plot_psd()\n",
    "\n",
    "interact(plot_spec,\n",
    "         subjectno=(0, len(files)-1, 1),\n",
    "         electrodecombo=(0, len(electrodepicks)-1, 1),\n",
    "         spectype=['snr', 'psd']);"
   ]
  },
  {
   "cell_type": "code",
   "execution_count": 33,
   "metadata": {
    "collapsed": false
   },
   "outputs": [],
   "source": [
    "epoch = cleanepochs[3]\n",
    "epoch.save('/Users/jan/Dropbox/Documents/side-projects/ssvepy/ssvepy/exampledata/example-epo.fif')"
   ]
  },
  {
   "cell_type": "markdown",
   "metadata": {
    "deletable": true,
    "editable": true
   },
   "source": [
    "First, we calculate the maximal signal-to-noise ratio that we have across our electrodes:"
   ]
  },
  {
   "cell_type": "code",
   "execution_count": 18,
   "metadata": {
    "collapsed": false,
    "deletable": true,
    "editable": true
   },
   "outputs": [
    {
     "data": {
      "image/png": "[encoded data removed]",
      "text/plain": [
       "<matplotlib.figure.Figure at 0x13dd46438>"
      ]
     },
     "metadata": {},
     "output_type": "display_data"
    }
   ],
   "source": [
    "maxsnrs = np.array(\n",
    "    [[snr[:, ((freqs >= baselinefreqs[0]-freqresolution) &\n",
    "              (freqs <= baselinefreqs[0]+freqresolution))].mean(axis=1).max()\n",
    "      for snr in snrlist]\n",
    "     for snrlist in snrlists]\n",
    ")\n",
    "\n",
    "plt.plot(maxsnrs.T)\n",
    "plt.show()"
   ]
  },
  {
   "cell_type": "markdown",
   "metadata": {
    "deletable": true,
    "editable": true
   },
   "source": [
    "Next, we will calculate the amplitude using a variety of approaches:\n",
    "\n",
    "1. Simply taking `Oz`\n",
    "2. Taking an SNR-weighted average of the occipital pole electrodes\n",
    "3. Taking the electrode with the highest SNR"
   ]
  },
  {
   "cell_type": "code",
   "execution_count": 73,
   "metadata": {
    "collapsed": false,
    "deletable": true,
    "editable": true
   },
   "outputs": [
    {
     "data": {
      "text/plain": [
       "['Oz', 'O2']"
      ]
     },
     "execution_count": 73,
     "metadata": {},
     "output_type": "execute_result"
    }
   ],
   "source": []
  }
 ],
 "metadata": {
  "kernelspec": {
   "display_name": "Python 3",
   "language": "python",
   "name": "python3"
  },
  "language_info": {
   "codemirror_mode": {
    "name": "ipython",
    "version": 3
   },
   "file_extension": ".py",
   "mimetype": "text/x-python",
   "name": "python",
   "nbconvert_exporter": "python",
   "pygments_lexer": "ipython3",
   "version": "3.6.0"
  }
 },
 "nbformat": 4,
 "nbformat_minor": 2
}
